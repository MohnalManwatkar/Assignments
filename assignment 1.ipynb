{
 "cells": [
  {
   "cell_type": "code",
   "execution_count": null,
   "id": "caec90a1",
   "metadata": {},
   "outputs": [],
   "source": []
  },
  {
   "cell_type": "markdown",
   "id": "1eca28f3",
   "metadata": {},
   "source": [
    "# assignment 1"
   ]
  },
  {
   "cell_type": "raw",
   "id": "f9efa4f4",
   "metadata": {},
   "source": [
    " 1. In the below elements which of them are values or an expression? eg:- values can be\n",
    "integer or string and expressions will be mathematical operators.\n",
    "\n",
    "\n",
    "*   expressions\n",
    "\n",
    "'hello'   string\n",
    "\n",
    "-87.8   float\n",
    "\n",
    "-   expressions\n",
    "\n",
    "/   expressions\n",
    "\n",
    "+   expressions\n",
    "\n",
    "6   integer"
   ]
  },
  {
   "cell_type": "code",
   "execution_count": null,
   "id": "8f2d318f",
   "metadata": {},
   "outputs": [],
   "source": []
  },
  {
   "cell_type": "raw",
   "id": "21a91269",
   "metadata": {},
   "source": [
    "2. What is the difference between string and variable?\n",
    "\n",
    "string- it id denoted by single quote, double quote, and triple quotes for multiple lines tp print.\n",
    "\n",
    "variable- it is used to store data."
   ]
  },
  {
   "cell_type": "code",
   "execution_count": null,
   "id": "573c3e39",
   "metadata": {},
   "outputs": [],
   "source": []
  },
  {
   "cell_type": "raw",
   "id": "805bc3a1",
   "metadata": {},
   "source": [
    "3. Describe three different data types.\n",
    "\n",
    "int - use to store data/numaric data.\n",
    "float - use to store float number like 1.5, 55.89 etc.\n",
    "booleans - is used to compair two entities (True/False)\n",
    "\n"
   ]
  },
  {
   "cell_type": "code",
   "execution_count": null,
   "id": "151b6f58",
   "metadata": {},
   "outputs": [],
   "source": []
  },
  {
   "cell_type": "raw",
   "id": "128dbe3f",
   "metadata": {},
   "source": [
    "4. What is an expression made up of? What do all expressions do?\n",
    "\n",
    "- expression is used to execute methametical opration\n",
    "eg. i=i+1\n"
   ]
  },
  {
   "cell_type": "code",
   "execution_count": null,
   "id": "7db9edf3",
   "metadata": {},
   "outputs": [],
   "source": []
  },
  {
   "cell_type": "raw",
   "id": "f85a6d2e",
   "metadata": {},
   "source": [
    "5. This assignment statements, like spam = 10. What is the difference between an\n",
    "expression and a statement?\n",
    "\n",
    "-statement is as it is print after execute\n",
    "-in expression methametical oprations will execute and gives output what we want"
   ]
  },
  {
   "cell_type": "code",
   "execution_count": null,
   "id": "09b9dd47",
   "metadata": {},
   "outputs": [],
   "source": []
  },
  {
   "cell_type": "code",
   "execution_count": 12,
   "id": "fa22afbc",
   "metadata": {},
   "outputs": [
    {
     "data": {
      "text/plain": [
       "23"
      ]
     },
     "execution_count": 12,
     "metadata": {},
     "output_type": "execute_result"
    }
   ],
   "source": [
    "'''6. After running the following code, what does the variable bacon contain?\n",
    "bacon = 22\n",
    "bacon + 1'''\n",
    "\n",
    "bacon = 22\n",
    "bacon + 1 "
   ]
  },
  {
   "cell_type": "code",
   "execution_count": null,
   "id": "ed97d758",
   "metadata": {},
   "outputs": [],
   "source": []
  },
  {
   "cell_type": "code",
   "execution_count": 16,
   "id": "58c04860",
   "metadata": {},
   "outputs": [
    {
     "data": {
      "text/plain": [
       "'spamspamspam'"
      ]
     },
     "execution_count": 16,
     "metadata": {},
     "output_type": "execute_result"
    }
   ],
   "source": [
    "'''7. What should the values of the following two terms be?\n",
    "'spam'+'spamspam'\n",
    "'spam'*3'''\n",
    "\n",
    "'spam' + 'spamspam'  \n"
   ]
  },
  {
   "cell_type": "code",
   "execution_count": 17,
   "id": "4a2c0605",
   "metadata": {},
   "outputs": [
    {
     "data": {
      "text/plain": [
       "'spamspamspam'"
      ]
     },
     "execution_count": 17,
     "metadata": {},
     "output_type": "execute_result"
    }
   ],
   "source": [
    " 'spam' * 3"
   ]
  },
  {
   "cell_type": "code",
   "execution_count": null,
   "id": "f59aee60",
   "metadata": {},
   "outputs": [],
   "source": []
  },
  {
   "cell_type": "raw",
   "id": "8519109e",
   "metadata": {},
   "source": [
    "8. Why is eggs a valid variable name while 100 is invalid?\n",
    "\n",
    "-in python variables cannot be a integer numbers. "
   ]
  },
  {
   "cell_type": "code",
   "execution_count": null,
   "id": "d1da6efc",
   "metadata": {},
   "outputs": [],
   "source": []
  },
  {
   "cell_type": "code",
   "execution_count": 23,
   "id": "64853d7d",
   "metadata": {},
   "outputs": [
    {
     "data": {
      "text/plain": [
       "('12', 12, 12.0)"
      ]
     },
     "execution_count": 23,
     "metadata": {},
     "output_type": "execute_result"
    }
   ],
   "source": [
    "'''9. What three functions can be used to get the integer, floating-point number, or string\n",
    "version of a value?'''\n",
    "\n",
    "a=12\n",
    "\n",
    "\n",
    "str(a),   int(a),   float(a)"
   ]
  },
  {
   "cell_type": "code",
   "execution_count": null,
   "id": "3200d07d",
   "metadata": {},
   "outputs": [],
   "source": []
  },
  {
   "cell_type": "code",
   "execution_count": null,
   "id": "eafbba32",
   "metadata": {},
   "outputs": [],
   "source": [
    "10. Why does this expression cause an error? How can you fix it?\n",
    "'I have eaten'   + 99 +   'burritos.'"
   ]
  },
  {
   "cell_type": "code",
   "execution_count": 28,
   "id": "6e7ddabb",
   "metadata": {},
   "outputs": [
    {
     "data": {
      "text/plain": [
       "'I have eaten99burritos.'"
      ]
     },
     "execution_count": 28,
     "metadata": {},
     "output_type": "execute_result"
    }
   ],
   "source": [
    "'I have eaten'   +   str(99)  +   'burritos.'"
   ]
  },
  {
   "cell_type": "code",
   "execution_count": 40,
   "id": "d086ee5d",
   "metadata": {},
   "outputs": [],
   "source": []
  }
 ],
 "metadata": {
  "kernelspec": {
   "display_name": "Python 3 (ipykernel)",
   "language": "python",
   "name": "python3"
  },
  "language_info": {
   "codemirror_mode": {
    "name": "ipython",
    "version": 3
   },
   "file_extension": ".py",
   "mimetype": "text/x-python",
   "name": "python",
   "nbconvert_exporter": "python",
   "pygments_lexer": "ipython3",
   "version": "3.9.12"
  }
 },
 "nbformat": 4,
 "nbformat_minor": 5
}
