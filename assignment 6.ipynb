{
 "cells": [
  {
   "cell_type": "code",
   "execution_count": 3,
   "id": "7b1f9c88",
   "metadata": {},
   "outputs": [
    {
     "name": "stdout",
     "output_type": "stream",
     "text": [
      " this is   my  6th assignment\n"
     ]
    }
   ],
   "source": [
    "# 1. What are escape characters, and how do you use them?\n",
    "\n",
    "\n",
    "print(\" this is\\\n",
    "   my  6th assignment\")"
   ]
  },
  {
   "cell_type": "markdown",
   "id": "458fd5be",
   "metadata": {},
   "source": []
  },
  {
   "cell_type": "code",
   "execution_count": 7,
   "id": "9eba4e76",
   "metadata": {},
   "outputs": [
    {
     "name": "stdout",
     "output_type": "stream",
     "text": [
      " this is\tmy 6th \n",
      "assignment\n"
     ]
    }
   ],
   "source": [
    "# 2. What do the escape characters n and t stand for?\n",
    "\n",
    "print(\" this is\\tmy 6th \\nassignment\")"
   ]
  },
  {
   "cell_type": "markdown",
   "id": "f075458d",
   "metadata": {},
   "source": []
  },
  {
   "cell_type": "code",
   "execution_count": 8,
   "id": "67583595",
   "metadata": {},
   "outputs": [
    {
     "name": "stdout",
     "output_type": "stream",
     "text": [
      " this ismy 6th \\ assignment\n"
     ]
    }
   ],
   "source": [
    "# 3. What is the way to include backslash characters in a string?\n",
    "\n",
    "print(\" this ismy 6th \\\\ assignment\")"
   ]
  },
  {
   "cell_type": "code",
   "execution_count": 10,
   "id": "2b0494ae",
   "metadata": {},
   "outputs": [
    {
     "name": "stdout",
     "output_type": "stream",
     "text": [
      "Howl's Moving Castle\n"
     ]
    }
   ],
   "source": [
    "'''4. The string \"Howl's Moving Castle\" is a correct value. Why isn't the single quote character in the\n",
    "word Howl's not escaped a problem?'''\n",
    "\n",
    "\n",
    "print(\"Howl's Moving Castle\")"
   ]
  },
  {
   "cell_type": "markdown",
   "id": "eacf6df7",
   "metadata": {},
   "source": []
  },
  {
   "cell_type": "code",
   "execution_count": 13,
   "id": "d9f83f09",
   "metadata": {},
   "outputs": [
    {
     "name": "stdout",
     "output_type": "stream",
     "text": [
      "this program for new line \n",
      "\n",
      "new line starts from\n",
      "this program for new line\n",
      "new line starts from\n"
     ]
    }
   ],
   "source": [
    "# 5. How do you write a string of newlines if you don't want to use the n character?\n",
    "\n",
    "print('this program for new line',end=' ')\n",
    "print('\\n')\n",
    "print (\"new line starts from\")\n",
    "\n",
    "#            or\n",
    "\n",
    "print('this program for new line',end='\\n')\n",
    "\n",
    "print (\"new line starts from\")"
   ]
  },
  {
   "cell_type": "code",
   "execution_count": 14,
   "id": "975ff6af",
   "metadata": {},
   "outputs": [
    {
     "name": "stdout",
     "output_type": "stream",
     "text": [
      "this program for new line\n",
      "new line starts from\n"
     ]
    }
   ],
   "source": [
    "#            or\n",
    "\n",
    "print('this program for new line',end='\\n')\n",
    "\n",
    "print (\"new line starts from\")"
   ]
  },
  {
   "cell_type": "markdown",
   "id": "aafa2b4c",
   "metadata": {},
   "source": []
  },
  {
   "cell_type": "code",
   "execution_count": 19,
   "id": "9bf7002c",
   "metadata": {},
   "outputs": [],
   "source": [
    "# 6. What are the values of the given expressions?\n",
    "# 'Hello, world!'[1]\n",
    "# 'Hello, world!'[0:5]\n",
    "# 'Hello, world!'[:5]\n",
    "# 'Hello, world!'[3:]"
   ]
  },
  {
   "cell_type": "code",
   "execution_count": 16,
   "id": "7bb08ec9",
   "metadata": {},
   "outputs": [
    {
     "data": {
      "text/plain": [
       "'e'"
      ]
     },
     "execution_count": 16,
     "metadata": {},
     "output_type": "execute_result"
    }
   ],
   "source": [
    "'Hello, world!'[1]"
   ]
  },
  {
   "cell_type": "code",
   "execution_count": 20,
   "id": "91cf101c",
   "metadata": {},
   "outputs": [
    {
     "data": {
      "text/plain": [
       "'Hello'"
      ]
     },
     "execution_count": 20,
     "metadata": {},
     "output_type": "execute_result"
    }
   ],
   "source": [
    "'Hello, world!'[0:5]"
   ]
  },
  {
   "cell_type": "code",
   "execution_count": 21,
   "id": "25f1432b",
   "metadata": {},
   "outputs": [
    {
     "data": {
      "text/plain": [
       "'Hello'"
      ]
     },
     "execution_count": 21,
     "metadata": {},
     "output_type": "execute_result"
    }
   ],
   "source": [
    "'Hello, world!'[:5]"
   ]
  },
  {
   "cell_type": "code",
   "execution_count": 22,
   "id": "db6d5d38",
   "metadata": {},
   "outputs": [
    {
     "data": {
      "text/plain": [
       "'lo, world!'"
      ]
     },
     "execution_count": 22,
     "metadata": {},
     "output_type": "execute_result"
    }
   ],
   "source": [
    "'Hello, world!'[3:]"
   ]
  },
  {
   "cell_type": "markdown",
   "id": "bbbf2124",
   "metadata": {},
   "source": []
  },
  {
   "cell_type": "code",
   "execution_count": 23,
   "id": "eff5d9cb",
   "metadata": {},
   "outputs": [
    {
     "data": {
      "text/plain": [
       "'HELLO'"
      ]
     },
     "execution_count": 23,
     "metadata": {},
     "output_type": "execute_result"
    }
   ],
   "source": [
    "# 7. What are the values of the following expressions?\n",
    "'Hello'.upper()"
   ]
  },
  {
   "cell_type": "code",
   "execution_count": 25,
   "id": "375f2a9d",
   "metadata": {},
   "outputs": [
    {
     "data": {
      "text/plain": [
       "True"
      ]
     },
     "execution_count": 25,
     "metadata": {},
     "output_type": "execute_result"
    }
   ],
   "source": [
    "'Hello'.upper().isupper()"
   ]
  },
  {
   "cell_type": "code",
   "execution_count": 26,
   "id": "1e7fdbf8",
   "metadata": {},
   "outputs": [
    {
     "data": {
      "text/plain": [
       "'hello'"
      ]
     },
     "execution_count": 26,
     "metadata": {},
     "output_type": "execute_result"
    }
   ],
   "source": [
    "'Hello'.upper().lower()"
   ]
  },
  {
   "cell_type": "markdown",
   "id": "7583c6a3",
   "metadata": {},
   "source": []
  },
  {
   "cell_type": "code",
   "execution_count": 27,
   "id": "103c246b",
   "metadata": {},
   "outputs": [
    {
     "data": {
      "text/plain": [
       "['Remember,', 'remember,', 'the', 'fifth', 'of', 'july.']"
      ]
     },
     "execution_count": 27,
     "metadata": {},
     "output_type": "execute_result"
    }
   ],
   "source": [
    "# 8. What are the values of the following expressions?\n",
    "\n",
    "'Remember, remember, the fifth of july.'.split()"
   ]
  },
  {
   "cell_type": "code",
   "execution_count": 30,
   "id": "2e9ad351",
   "metadata": {},
   "outputs": [
    {
     "data": {
      "text/plain": [
       "'ther.can.only.one.'"
      ]
     },
     "execution_count": 30,
     "metadata": {},
     "output_type": "execute_result"
    }
   ],
   "source": [
    "'.'.join('ther can only one.'.split())"
   ]
  },
  {
   "cell_type": "code",
   "execution_count": 31,
   "id": "999240a6",
   "metadata": {},
   "outputs": [
    {
     "data": {
      "text/plain": [
       "'ther_can_only_one.'"
      ]
     },
     "execution_count": 31,
     "metadata": {},
     "output_type": "execute_result"
    }
   ],
   "source": [
    "'_'.join('ther can only one.'.split())"
   ]
  },
  {
   "cell_type": "markdown",
   "id": "b8c4a438",
   "metadata": {},
   "source": []
  },
  {
   "cell_type": "code",
   "execution_count": null,
   "id": "b15a9c44",
   "metadata": {},
   "outputs": [],
   "source": [
    "# 9. What are the methods for right-justifying, left-justifying, and centering a string?"
   ]
  },
  {
   "cell_type": "code",
   "execution_count": 35,
   "id": "99300e5b",
   "metadata": {},
   "outputs": [
    {
     "data": {
      "text/plain": [
       "'______sudh'"
      ]
     },
     "execution_count": 35,
     "metadata": {},
     "output_type": "execute_result"
    }
   ],
   "source": [
    "# right justifying\n",
    "\n",
    "a=\"sudh\"\n",
    "a.rjust(10,\"_\")"
   ]
  },
  {
   "cell_type": "code",
   "execution_count": 38,
   "id": "9408fd18",
   "metadata": {},
   "outputs": [
    {
     "data": {
      "text/plain": [
       "'___sudh___'"
      ]
     },
     "execution_count": 38,
     "metadata": {},
     "output_type": "execute_result"
    }
   ],
   "source": [
    "# center justifying\n",
    "\n",
    "a='sudh'\n",
    "a.center(10,(\"_\"))"
   ]
  },
  {
   "cell_type": "code",
   "execution_count": 39,
   "id": "83755c0a",
   "metadata": {},
   "outputs": [
    {
     "data": {
      "text/plain": [
       "'sudh______'"
      ]
     },
     "execution_count": 39,
     "metadata": {},
     "output_type": "execute_result"
    }
   ],
   "source": [
    "# left justifying\n",
    "\n",
    "a='sudh'\n",
    "a.ljust(10,(\"_\"))"
   ]
  },
  {
   "cell_type": "markdown",
   "id": "0f648e16",
   "metadata": {},
   "source": []
  },
  {
   "cell_type": "code",
   "execution_count": 41,
   "id": "bd68822d",
   "metadata": {},
   "outputs": [
    {
     "data": {
      "text/plain": [
       "'sudh    '"
      ]
     },
     "execution_count": 41,
     "metadata": {},
     "output_type": "execute_result"
    }
   ],
   "source": [
    "# 10. What is the best way to remove whitespace characters from the start or end?\n",
    "\n",
    "a='   sudh    '\n",
    "a.lstrip()"
   ]
  },
  {
   "cell_type": "code",
   "execution_count": 42,
   "id": "d91d7948",
   "metadata": {},
   "outputs": [
    {
     "data": {
      "text/plain": [
       "'   sudh'"
      ]
     },
     "execution_count": 42,
     "metadata": {},
     "output_type": "execute_result"
    }
   ],
   "source": [
    "a='   sudh    '\n",
    "a.rstrip()"
   ]
  },
  {
   "cell_type": "code",
   "execution_count": null,
   "id": "014140ad",
   "metadata": {},
   "outputs": [],
   "source": []
  }
 ],
 "metadata": {
  "kernelspec": {
   "display_name": "Python 3 (ipykernel)",
   "language": "python",
   "name": "python3"
  },
  "language_info": {
   "codemirror_mode": {
    "name": "ipython",
    "version": 3
   },
   "file_extension": ".py",
   "mimetype": "text/x-python",
   "name": "python",
   "nbconvert_exporter": "python",
   "pygments_lexer": "ipython3",
   "version": "3.9.12"
  }
 },
 "nbformat": 4,
 "nbformat_minor": 5
}
