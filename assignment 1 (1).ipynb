{
 "cells": [
  {
   "cell_type": "code",
   "execution_count": null,
   "id": "f111363e",
   "metadata": {},
   "outputs": [],
   "source": []
  },
  {
   "cell_type": "markdown",
   "id": "7a408f1d",
   "metadata": {},
   "source": [
    "# assignment 1"
   ]
  },
  {
   "cell_type": "code",
   "execution_count": null,
   "id": "f4260223",
   "metadata": {},
   "outputs": [],
   "source": [
    " 1. In the below elements which of them are values or an expression? eg:- values can be\n",
    "integer or string and expressions will be mathematical operators.\n",
    "\n",
    "\n",
    "*   expressions\n",
    "\n",
    "'hello'   string\n",
    "\n",
    "-87.8   float\n",
    "\n",
    "-   expressions\n",
    "\n",
    "/   expressions\n",
    "\n",
    "+   expressions\n",
    "\n",
    "6   integer"
   ]
  },
  {
   "cell_type": "markdown",
   "id": "796096c6",
   "metadata": {},
   "source": []
  },
  {
   "cell_type": "code",
   "execution_count": null,
   "id": "31e1cb35",
   "metadata": {},
   "outputs": [],
   "source": [
    "2. What is the difference between string and variable?\n",
    "\n",
    "string- it id denoted by single quote, double quote, and triple quotes for multiple lines tp print.\n",
    "\n",
    "variable- it is used to store data."
   ]
  },
  {
   "cell_type": "markdown",
   "id": "b05343ff",
   "metadata": {},
   "source": []
  },
  {
   "cell_type": "code",
   "execution_count": null,
   "id": "d91e25c5",
   "metadata": {},
   "outputs": [],
   "source": [
    "3. Describe three different data types.\n",
    "\n",
    "int - use to store data/numaric data.\n",
    "float - use to store float number like 1.5, 55.89 etc.\n",
    "booleans - is used to compair two entities (True/False)\n",
    "\n"
   ]
  },
  {
   "cell_type": "markdown",
   "id": "16a5e520",
   "metadata": {},
   "source": []
  },
  {
   "cell_type": "code",
   "execution_count": null,
   "id": "3421dc81",
   "metadata": {},
   "outputs": [],
   "source": [
    "4. What is an expression made up of? What do all expressions do?\n",
    "\n",
    "- expression is used to execute methametical opration\n",
    "eg. i=i+1\n"
   ]
  },
  {
   "cell_type": "markdown",
   "id": "5b801b0d",
   "metadata": {},
   "source": []
  },
  {
   "cell_type": "code",
   "execution_count": null,
   "id": "47dd7aab",
   "metadata": {},
   "outputs": [],
   "source": [
    "5. This assignment statements, like spam = 10. What is the difference between an\n",
    "expression and a statement?\n",
    "\n",
    "-statement is as it is print after execute\n",
    "-in expression methametical oprations will execute and gives output what we want"
   ]
  },
  {
   "cell_type": "markdown",
   "id": "e39b9b35",
   "metadata": {},
   "source": []
  },
  {
   "cell_type": "code",
   "execution_count": 12,
   "id": "46abdba7",
   "metadata": {},
   "outputs": [
    {
     "data": {
      "text/plain": [
       "23"
      ]
     },
     "execution_count": 12,
     "metadata": {},
     "output_type": "execute_result"
    }
   ],
   "source": [
    "'''6. After running the following code, what does the variable bacon contain?\n",
    "bacon = 22\n",
    "bacon + 1'''\n",
    "\n",
    "bacon = 22\n",
    "bacon + 1 "
   ]
  },
  {
   "cell_type": "markdown",
   "id": "e57aa6d1",
   "metadata": {},
   "source": []
  },
  {
   "cell_type": "code",
   "execution_count": 16,
   "id": "2ef8243d",
   "metadata": {},
   "outputs": [
    {
     "data": {
      "text/plain": [
       "'spamspamspam'"
      ]
     },
     "execution_count": 16,
     "metadata": {},
     "output_type": "execute_result"
    }
   ],
   "source": [
    "'''7. What should the values of the following two terms be?\n",
    "'spam'+'spamspam'\n",
    "'spam'*3'''\n",
    "\n",
    "'spam' + 'spamspam'  \n"
   ]
  },
  {
   "cell_type": "code",
   "execution_count": 17,
   "id": "0f135997",
   "metadata": {},
   "outputs": [
    {
     "data": {
      "text/plain": [
       "'spamspamspam'"
      ]
     },
     "execution_count": 17,
     "metadata": {},
     "output_type": "execute_result"
    }
   ],
   "source": [
    " 'spam' * 3"
   ]
  },
  {
   "cell_type": "markdown",
   "id": "0d8a4502",
   "metadata": {},
   "source": []
  },
  {
   "cell_type": "code",
   "execution_count": null,
   "id": "aa3003ed",
   "metadata": {},
   "outputs": [],
   "source": [
    "8. Why is eggs a valid variable name while 100 is invalid?\n",
    "\n",
    "-in python variables cannot be a integer numbers. "
   ]
  },
  {
   "cell_type": "markdown",
   "id": "dec2986c",
   "metadata": {},
   "source": []
  },
  {
   "cell_type": "code",
   "execution_count": 23,
   "id": "8a27abf0",
   "metadata": {},
   "outputs": [
    {
     "data": {
      "text/plain": [
       "('12', 12, 12.0)"
      ]
     },
     "execution_count": 23,
     "metadata": {},
     "output_type": "execute_result"
    }
   ],
   "source": [
    "'''9. What three functions can be used to get the integer, floating-point number, or string\n",
    "version of a value?'''\n",
    "\n",
    "a=12\n",
    "\n",
    "\n",
    "str(a),   int(a),   float(a)"
   ]
  },
  {
   "cell_type": "markdown",
   "id": "6ee9b2fc",
   "metadata": {},
   "source": []
  },
  {
   "cell_type": "code",
   "execution_count": null,
   "id": "dc94e309",
   "metadata": {},
   "outputs": [],
   "source": [
    "10. Why does this expression cause an error? How can you fix it?\n",
    "'I have eaten'   + 99 +   'burritos.'"
   ]
  },
  {
   "cell_type": "code",
   "execution_count": 28,
   "id": "c08a2ae3",
   "metadata": {},
   "outputs": [
    {
     "data": {
      "text/plain": [
       "'I have eaten99burritos.'"
      ]
     },
     "execution_count": 28,
     "metadata": {},
     "output_type": "execute_result"
    }
   ],
   "source": [
    "'I have eaten'   +   str(99)  +   'burritos.'"
   ]
  },
  {
   "cell_type": "code",
   "execution_count": 40,
   "id": "91205498",
   "metadata": {},
   "outputs": [],
   "source": []
  }
 ],
 "metadata": {
  "kernelspec": {
   "display_name": "Python 3 (ipykernel)",
   "language": "python",
   "name": "python3"
  },
  "language_info": {
   "codemirror_mode": {
    "name": "ipython",
    "version": 3
   },
   "file_extension": ".py",
   "mimetype": "text/x-python",
   "name": "python",
   "nbconvert_exporter": "python",
   "pygments_lexer": "ipython3",
   "version": "3.9.12"
  }
 },
 "nbformat": 4,
 "nbformat_minor": 5
}
