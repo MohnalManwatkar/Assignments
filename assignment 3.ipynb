{
 "cells": [
  {
   "cell_type": "code",
   "execution_count": null,
   "id": "febb405b",
   "metadata": {},
   "outputs": [],
   "source": [
    "# 1. Why are functions advantageous to have in your programs?\n",
    "\n",
    "it reduce the duplicate code"
   ]
  },
  {
   "cell_type": "markdown",
   "id": "762dc032",
   "metadata": {},
   "source": []
  },
  {
   "cell_type": "code",
   "execution_count": null,
   "id": "780caf70",
   "metadata": {},
   "outputs": [],
   "source": [
    "# 2. When does the code in a function run: when it&#39;s specified or when it&#39;s called?\n",
    "\n",
    "To carry out that specific task, the function might or might not need multiple inputs."
   ]
  },
  {
   "cell_type": "markdown",
   "id": "c9dd7bc9",
   "metadata": {},
   "source": []
  },
  {
   "cell_type": "code",
   "execution_count": null,
   "id": "1ba28534",
   "metadata": {},
   "outputs": [],
   "source": [
    "# 3. What statement creates a function?\n",
    "\n",
    "def key"
   ]
  },
  {
   "cell_type": "markdown",
   "id": "d18941dc",
   "metadata": {},
   "source": []
  },
  {
   "cell_type": "code",
   "execution_count": null,
   "id": "cf7d79da",
   "metadata": {},
   "outputs": [],
   "source": [
    "# 4. What is the difference between a function and a function call?\n",
    "\n",
    "= A function is a block of code that does a particular operation and returns a result. It usually accepts inputs as parameters and returns a result. The parameters are not mandatory\n",
    "\n",
    "= A function call is the code used to pass control to a function"
   ]
  },
  {
   "cell_type": "markdown",
   "id": "c11e2410",
   "metadata": {},
   "source": []
  },
  {
   "cell_type": "code",
   "execution_count": null,
   "id": "056fa3eb",
   "metadata": {},
   "outputs": [],
   "source": [
    "# 5. How many global scopes are there in a Python program? How many local scopes?\n",
    "\n",
    "= only one global python scope per program execution\n",
    "= any number of local Python scope per program execution"
   ]
  },
  {
   "cell_type": "markdown",
   "id": "5d9bfdf0",
   "metadata": {},
   "source": []
  },
  {
   "cell_type": "code",
   "execution_count": null,
   "id": "542c297a",
   "metadata": {},
   "outputs": [],
   "source": [
    "# 6. What happens to variables in a local scope when the function call returns?\n",
    "\n",
    " local variable retains its value until the next time the function is called"
   ]
  },
  {
   "cell_type": "markdown",
   "id": "c45c12ae",
   "metadata": {},
   "source": []
  },
  {
   "cell_type": "code",
   "execution_count": null,
   "id": "d901b04d",
   "metadata": {},
   "outputs": [],
   "source": [
    "# 7. What is the concept of a return value? Is it possible to have a return value in an expression?\n",
    "\n",
    "A return statement is used to end the execution of the function call and “returns” the result."
   ]
  },
  {
   "cell_type": "markdown",
   "id": "37bd8796",
   "metadata": {},
   "source": []
  },
  {
   "cell_type": "code",
   "execution_count": null,
   "id": "8e4fbd48",
   "metadata": {},
   "outputs": [],
   "source": [
    "# 8. If a function does not have a return statement, what is the return value of a call to that function?\n",
    "\n",
    "automatically assign that default return value will always be None"
   ]
  },
  {
   "cell_type": "markdown",
   "id": "6c4e2e22",
   "metadata": {},
   "source": []
  },
  {
   "cell_type": "code",
   "execution_count": null,
   "id": "7785434e",
   "metadata": {},
   "outputs": [],
   "source": [
    "# 9. How do you make a function variable refer to the global variable?\n",
    "\n",
    "use global key"
   ]
  },
  {
   "cell_type": "markdown",
   "id": "9a0ef99a",
   "metadata": {},
   "source": []
  },
  {
   "cell_type": "code",
   "execution_count": null,
   "id": "0ae2e620",
   "metadata": {},
   "outputs": [],
   "source": [
    "# 10. What is the data type of None?\n",
    "\n",
    "none is itself data type (nonetype)"
   ]
  },
  {
   "cell_type": "markdown",
   "id": "c1de3032",
   "metadata": {},
   "source": []
  },
  {
   "cell_type": "code",
   "execution_count": null,
   "id": "751e37e2",
   "metadata": {},
   "outputs": [],
   "source": [
    "# 11. What does the sentence import areallyourpetsnamederic do?\n",
    "\n",
    "import provides a libaray areallyourpetsnamederic"
   ]
  },
  {
   "cell_type": "markdown",
   "id": "624f4af5",
   "metadata": {},
   "source": []
  },
  {
   "cell_type": "code",
   "execution_count": null,
   "id": "afd2902a",
   "metadata": {},
   "outputs": [],
   "source": [
    "# 12. If you had a bacon() feature in a spam module, what would you call it after importing spam?\n",
    "\n",
    "This function can be called with spam.bacon()  ."
   ]
  },
  {
   "cell_type": "markdown",
   "id": "42de1dd5",
   "metadata": {},
   "source": []
  },
  {
   "cell_type": "code",
   "execution_count": null,
   "id": "b03b034d",
   "metadata": {},
   "outputs": [],
   "source": [
    "# 13. What can you do to save a programme from crashing if it encounters an error?\n",
    "\n",
    "Try running the program and it should throw an error message instead of crashing the program.\n",
    "The reason for the exception is also returned as an exception message. "
   ]
  },
  {
   "cell_type": "markdown",
   "id": "baa15559",
   "metadata": {},
   "source": []
  },
  {
   "cell_type": "code",
   "execution_count": null,
   "id": "078676fa",
   "metadata": {},
   "outputs": [],
   "source": [
    "# 14. What is the purpose of the try clause? What is the purpose of the except clause?\n",
    "\n",
    "In the try clause, all statements are executed until an exception is encountered.\n",
    "except is used to catch and handle the exception(s) that are encountered in the try clause.\n",
    "else lets you code sections that should run only when no exceptions are encountered in the try clause.\n"
   ]
  }
 ],
 "metadata": {
  "kernelspec": {
   "display_name": "Python 3 (ipykernel)",
   "language": "python",
   "name": "python3"
  },
  "language_info": {
   "codemirror_mode": {
    "name": "ipython",
    "version": 3
   },
   "file_extension": ".py",
   "mimetype": "text/x-python",
   "name": "python",
   "nbconvert_exporter": "python",
   "pygments_lexer": "ipython3",
   "version": "3.9.12"
  }
 },
 "nbformat": 4,
 "nbformat_minor": 5
}
