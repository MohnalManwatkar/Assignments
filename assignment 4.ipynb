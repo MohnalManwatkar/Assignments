{
 "cells": [
  {
   "cell_type": "code",
   "execution_count": null,
   "id": "cb4652ad",
   "metadata": {},
   "outputs": [],
   "source": [
    "# 1. What exactly is []?\n",
    "\n",
    "empty list"
   ]
  },
  {
   "cell_type": "markdown",
   "id": "578cb651",
   "metadata": {},
   "source": []
  },
  {
   "cell_type": "code",
   "execution_count": 1,
   "id": "8d2c5b85",
   "metadata": {},
   "outputs": [
    {
     "data": {
      "text/plain": [
       "[2, 4, 'hello', 8, 10]"
      ]
     },
     "execution_count": 1,
     "metadata": {},
     "output_type": "execute_result"
    }
   ],
   "source": [
    "\"\"\"2. In a list of values stored in a variable called spam, how would you assign the value \"hello\" as the\n",
    "third value? (Assume [2, 4, 6, 8, 10] are in spam.)\"\"\"\n",
    "\n",
    "\n",
    "spam=[2, 4, 6, 8, 10]\n",
    "spam[2]=\"hello\"\n",
    "spam"
   ]
  },
  {
   "cell_type": "markdown",
   "id": "872d49c6",
   "metadata": {},
   "source": []
  },
  {
   "cell_type": "code",
   "execution_count": null,
   "id": "990a5906",
   "metadata": {},
   "outputs": [],
   "source": [
    "Let's pretend the spam includes the list ['a','b','c','d'] for the next three queries."
   ]
  },
  {
   "cell_type": "code",
   "execution_count": 3,
   "id": "0529e82d",
   "metadata": {},
   "outputs": [
    {
     "data": {
      "text/plain": [
       "'d'"
      ]
     },
     "execution_count": 3,
     "metadata": {},
     "output_type": "execute_result"
    }
   ],
   "source": [
    "# 3. What is the value of spam[int(int('3' * 2) / 11)]?\n",
    "\n",
    "spam=['a','b','c','d']\n",
    "spam[int(int('3'*2)/11)]"
   ]
  },
  {
   "cell_type": "code",
   "execution_count": 4,
   "id": "27fc2c76",
   "metadata": {},
   "outputs": [
    {
     "data": {
      "text/plain": [
       "'d'"
      ]
     },
     "execution_count": 4,
     "metadata": {},
     "output_type": "execute_result"
    }
   ],
   "source": [
    "# 4. What is the value of spam[-1]?\n",
    "\n",
    "spam[-1]"
   ]
  },
  {
   "cell_type": "code",
   "execution_count": 5,
   "id": "ddc1b7e0",
   "metadata": {},
   "outputs": [
    {
     "data": {
      "text/plain": [
       "['a', 'b']"
      ]
     },
     "execution_count": 5,
     "metadata": {},
     "output_type": "execute_result"
    }
   ],
   "source": [
    "# 5. What is the value of spam[:2]?\n",
    "\n",
    "spam[ :2]"
   ]
  },
  {
   "cell_type": "markdown",
   "id": "6006b97a",
   "metadata": {},
   "source": []
  },
  {
   "cell_type": "code",
   "execution_count": null,
   "id": "539ca7f7",
   "metadata": {},
   "outputs": [],
   "source": [
    "Let&#39;s pretend bacon has the list [3.14, 'cat', 11, 'cat', True] for the next three questions."
   ]
  },
  {
   "cell_type": "code",
   "execution_count": 24,
   "id": "5eceba57",
   "metadata": {},
   "outputs": [
    {
     "data": {
      "text/plain": [
       "1"
      ]
     },
     "execution_count": 24,
     "metadata": {},
     "output_type": "execute_result"
    }
   ],
   "source": [
    "# 6. What is the value of bacon.index('cat')?\n",
    "\n",
    "bacon = [3.14, 'cat', 11, 'cat', True]\n",
    "bacon.index('cat')"
   ]
  },
  {
   "cell_type": "code",
   "execution_count": 25,
   "id": "577fbd8d",
   "metadata": {},
   "outputs": [],
   "source": [
    "# 7. How does bacon.append(99) change the look of the list value in bacon?\n",
    "\n",
    "bacon.append(99)"
   ]
  },
  {
   "cell_type": "code",
   "execution_count": 26,
   "id": "89486f18",
   "metadata": {},
   "outputs": [
    {
     "data": {
      "text/plain": [
       "[3.14, 'cat', 11, 'cat', True, 99]"
      ]
     },
     "execution_count": 26,
     "metadata": {},
     "output_type": "execute_result"
    }
   ],
   "source": [
    "bacon"
   ]
  },
  {
   "cell_type": "code",
   "execution_count": 27,
   "id": "01baa306",
   "metadata": {},
   "outputs": [
    {
     "data": {
      "text/plain": [
       "[3.14, 11, 'cat', True, 99]"
      ]
     },
     "execution_count": 27,
     "metadata": {},
     "output_type": "execute_result"
    }
   ],
   "source": [
    "# 8. How does bacon.remove('cat') change the look of the list in bacon?\n",
    "\n",
    "bacon.remove('cat')\n",
    "bacon"
   ]
  },
  {
   "cell_type": "markdown",
   "id": "12a90a78",
   "metadata": {},
   "source": []
  },
  {
   "cell_type": "code",
   "execution_count": 28,
   "id": "0c639522",
   "metadata": {},
   "outputs": [
    {
     "data": {
      "text/plain": [
       "[2, 4, 6, 3, 5, 7]"
      ]
     },
     "execution_count": 28,
     "metadata": {},
     "output_type": "execute_result"
    }
   ],
   "source": [
    "# 9. What are the list concatenation and list replication operators?\n",
    "\n",
    "#suppose\n",
    "\n",
    "list1 = [2,4,6]\n",
    "list2 = [3,5,7]\n",
    "\n",
    "#list concatenation\n",
    "list1 + list2"
   ]
  },
  {
   "cell_type": "code",
   "execution_count": 13,
   "id": "622e0242",
   "metadata": {},
   "outputs": [
    {
     "data": {
      "text/plain": [
       "[2, 4, 6, 2, 4, 6, 2, 4, 6]"
      ]
     },
     "execution_count": 13,
     "metadata": {},
     "output_type": "execute_result"
    }
   ],
   "source": [
    "#list replication\n",
    "list1 * 3"
   ]
  },
  {
   "cell_type": "markdown",
   "id": "fb87dce0",
   "metadata": {},
   "source": []
  },
  {
   "cell_type": "code",
   "execution_count": 19,
   "id": "ca6137b1",
   "metadata": {},
   "outputs": [
    {
     "data": {
      "text/plain": [
       "[2, 4, 6, 'swapnil']"
      ]
     },
     "execution_count": 19,
     "metadata": {},
     "output_type": "execute_result"
    }
   ],
   "source": [
    "# 10. What is difference between the list methods append() and insert()?\n",
    "\n",
    "#  append adds the item at the end of the list\n",
    "list1 = [2,4,6]\n",
    "list1.append('swapnil')\n",
    "list1\n",
    " \n"
   ]
  },
  {
   "cell_type": "code",
   "execution_count": 20,
   "id": "55354e80",
   "metadata": {},
   "outputs": [
    {
     "data": {
      "text/plain": [
       "[2, 'sudh', 4, 6]"
      ]
     },
     "execution_count": 20,
     "metadata": {},
     "output_type": "execute_result"
    }
   ],
   "source": [
    "# insert add's item at the place we want\n",
    "#eg.\n",
    "list1 = [2,4,6]\n",
    "list1.insert(1, 'sudh')\n",
    "list1"
   ]
  },
  {
   "cell_type": "markdown",
   "id": "8a3891c3",
   "metadata": {},
   "source": []
  },
  {
   "cell_type": "code",
   "execution_count": 22,
   "id": "2c8d0107",
   "metadata": {},
   "outputs": [
    {
     "data": {
      "text/plain": [
       "[2, 4]"
      ]
     },
     "execution_count": 22,
     "metadata": {},
     "output_type": "execute_result"
    }
   ],
   "source": [
    "# 11. What are the two methods for removing items from a list?\n",
    "\n",
    "\n",
    "\n",
    "list1 = [2,4,6]\n",
    "list1.pop()\n",
    "list1"
   ]
  },
  {
   "cell_type": "code",
   "execution_count": 29,
   "id": "0ce55d8d",
   "metadata": {},
   "outputs": [
    {
     "data": {
      "text/plain": [
       "[3.14, 11, True, 99]"
      ]
     },
     "execution_count": 29,
     "metadata": {},
     "output_type": "execute_result"
    }
   ],
   "source": [
    "bacon.remove('cat')\n",
    "bacon"
   ]
  },
  {
   "cell_type": "code",
   "execution_count": null,
   "id": "344c9c78",
   "metadata": {},
   "outputs": [],
   "source": [
    "# 12. Describe how list values and string values are identical.\n",
    "\n",
    "Both lists and strings can be passed to len()\n",
    "Have indexes and slices\n",
    "Can be used in for loops\n",
    "Can be concatenated or replicated\n",
    "Can be used with the in and not in operators"
   ]
  },
  {
   "cell_type": "markdown",
   "id": "01fb5a35",
   "metadata": {},
   "source": []
  },
  {
   "cell_type": "code",
   "execution_count": null,
   "id": "7a7db55c",
   "metadata": {},
   "outputs": [],
   "source": [
    "# 13. What's the difference between tuples and lists?\n",
    "\n",
    "Tuples : are immutable- they cannot be changed at all.  ( and )\n",
    "Lists : are mutable - they can have values added, removed, or changed.  [ and ]"
   ]
  },
  {
   "cell_type": "markdown",
   "id": "14d8da55",
   "metadata": {},
   "source": []
  },
  {
   "cell_type": "code",
   "execution_count": 30,
   "id": "abfc6177",
   "metadata": {},
   "outputs": [
    {
     "data": {
      "text/plain": [
       "42"
      ]
     },
     "execution_count": 30,
     "metadata": {},
     "output_type": "execute_result"
    }
   ],
   "source": [
    "# 14. How do you type a tuple value that only contains the integer 42?\n",
    "\n",
    "tuple = (42)\n",
    "tuple"
   ]
  },
  {
   "cell_type": "markdown",
   "id": "7e0a0cb1",
   "metadata": {},
   "source": []
  },
  {
   "cell_type": "code",
   "execution_count": 42,
   "id": "0aeaaf68",
   "metadata": {},
   "outputs": [
    {
     "ename": "TypeError",
     "evalue": "'tuple' object is not callable",
     "output_type": "error",
     "traceback": [
      "\u001b[1;31m---------------------------------------------------------------------------\u001b[0m",
      "\u001b[1;31mTypeError\u001b[0m                                 Traceback (most recent call last)",
      "Input \u001b[1;32mIn [42]\u001b[0m, in \u001b[0;36m<cell line: 4>\u001b[1;34m()\u001b[0m\n\u001b[0;32m      1\u001b[0m \u001b[38;5;66;03m# 15. How do you get a list value's tuple form? How do you get a tuple value's list form?\u001b[39;00m\n\u001b[0;32m      3\u001b[0m \u001b[38;5;28mlist\u001b[39m\u001b[38;5;241m=\u001b[39m[\u001b[38;5;241m1\u001b[39m,\u001b[38;5;241m2\u001b[39m,\u001b[38;5;241m3\u001b[39m,\u001b[38;5;241m55\u001b[39m]\n\u001b[1;32m----> 4\u001b[0m t\u001b[38;5;241m=\u001b[39m\u001b[38;5;28;43mtuple\u001b[39;49m\u001b[43m(\u001b[49m\u001b[38;5;28;43mlist\u001b[39;49m\u001b[43m)\u001b[49m\n\u001b[0;32m      5\u001b[0m t\n",
      "\u001b[1;31mTypeError\u001b[0m: 'tuple' object is not callable"
     ]
    }
   ],
   "source": [
    "# 15. How do you get a list value's tuple form? How do you get a tuple value's list form?\n",
    "\n",
    "list=[1,2,3,55]\n",
    "t=tuple(list)\n",
    "t"
   ]
  },
  {
   "cell_type": "code",
   "execution_count": 41,
   "id": "50122d9b",
   "metadata": {},
   "outputs": [
    {
     "data": {
      "text/plain": [
       "[1, 2, 3, 55]"
      ]
     },
     "execution_count": 41,
     "metadata": {},
     "output_type": "execute_result"
    }
   ],
   "source": [
    "tuple=(1,2,3,55)\n",
    "l = list(tuple)\n",
    "l"
   ]
  },
  {
   "cell_type": "markdown",
   "id": "f716c15e",
   "metadata": {},
   "source": []
  },
  {
   "cell_type": "code",
   "execution_count": null,
   "id": "c053abdc",
   "metadata": {},
   "outputs": [],
   "source": [
    "# 16. Variables that 'contain' list values are not necessarily lists themselves. Instead, what do they contain?\n",
    "\n",
    "They contain references to list values"
   ]
  },
  {
   "cell_type": "markdown",
   "id": "c3658bdd",
   "metadata": {},
   "source": []
  },
  {
   "cell_type": "code",
   "execution_count": null,
   "id": "22765d4b",
   "metadata": {},
   "outputs": [],
   "source": [
    "# 17. How do you distinguish between copy.copy() and copy.deepcopy()?\n",
    "\n",
    "The copy.copy() function will do a shallow copy of a list,\n",
    "The copy.deepcopy() function will do a deep copy of a list. only copy.deepcopy() will duplicate any lists inside the list\n",
    "\n"
   ]
  }
 ],
 "metadata": {
  "kernelspec": {
   "display_name": "Python 3 (ipykernel)",
   "language": "python",
   "name": "python3"
  },
  "language_info": {
   "codemirror_mode": {
    "name": "ipython",
    "version": 3
   },
   "file_extension": ".py",
   "mimetype": "text/x-python",
   "name": "python",
   "nbconvert_exporter": "python",
   "pygments_lexer": "ipython3",
   "version": "3.9.12"
  }
 },
 "nbformat": 4,
 "nbformat_minor": 5
}
