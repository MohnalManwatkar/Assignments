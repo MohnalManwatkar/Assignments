{
 "cells": [
  {
   "cell_type": "code",
   "execution_count": null,
   "id": "f3a8a252",
   "metadata": {},
   "outputs": [],
   "source": [
    "# 1. How do you distinguish between shutil.copy() and shutil.copytree()?\n",
    "\n",
    "\n",
    "shutil.copy() will copy a single file, \n",
    "shutil.copytree() will copy an entire folder and every folder and file contained in it."
   ]
  },
  {
   "cell_type": "markdown",
   "id": "41600927",
   "metadata": {},
   "source": []
  },
  {
   "cell_type": "code",
   "execution_count": null,
   "id": "4ca48066",
   "metadata": {},
   "outputs": [],
   "source": [
    "# 2. What function is used to rename files??\n",
    "\n",
    "\n",
    "os.rename()"
   ]
  },
  {
   "cell_type": "markdown",
   "id": "c8683fcb",
   "metadata": {},
   "source": []
  },
  {
   "cell_type": "code",
   "execution_count": null,
   "id": "ab577723",
   "metadata": {},
   "outputs": [],
   "source": [
    "# 3. What is the difference between the delete functions in the send2trash and shutil modules?\n",
    "\n",
    "\n",
    "shutil.rmtree() which deletes a directory and all its contents. \n",
    "os.remove() -> removes a file\n",
    "os.rmdir() removes a empty directory"
   ]
  },
  {
   "cell_type": "markdown",
   "id": "2d1c37a5",
   "metadata": {},
   "source": []
  },
  {
   "cell_type": "code",
   "execution_count": null,
   "id": "509383c2",
   "metadata": {},
   "outputs": [],
   "source": [
    "# 4.ZipFile objects have a close() method just like File objects’ close() method. What ZipFile method is\n",
    "# equivalent to File objects’ open() method?\n",
    "\n",
    "\n",
    "zipfile.ZipFile('fille name', mode='r')"
   ]
  },
  {
   "cell_type": "markdown",
   "id": "48e92026",
   "metadata": {},
   "source": []
  },
  {
   "cell_type": "code",
   "execution_count": 2,
   "id": "f173dd8e",
   "metadata": {},
   "outputs": [],
   "source": [
    "'''5. Create a programme that searches a folder tree for files with a certain file extension (such as .pdf\n",
    "or .jpg). Copy these files from whatever location they are in to a new folder.'''\n",
    "\n",
    "\n",
    "\n",
    "import os, shutil\n",
    "\n",
    "def moveFileType(folder):\n",
    "    for folderName, subfolders, filenames in os.walk(folder):\n",
    "        for subfolder in subfolders:\n",
    "            for filename in filenames:\n",
    "                if filename.endswith('.jpg'):\n",
    "                    shutil.copy(folder + filename, '<destination>')\n",
    "\n",
    "moveFileType('<source>')"
   ]
  },
  {
   "cell_type": "code",
   "execution_count": 3,
   "id": "e2b42ca5",
   "metadata": {},
   "outputs": [],
   "source": []
  }
 ],
 "metadata": {
  "kernelspec": {
   "display_name": "Python 3 (ipykernel)",
   "language": "python",
   "name": "python3"
  },
  "language_info": {
   "codemirror_mode": {
    "name": "ipython",
    "version": 3
   },
   "file_extension": ".py",
   "mimetype": "text/x-python",
   "name": "python",
   "nbconvert_exporter": "python",
   "pygments_lexer": "ipython3",
   "version": "3.9.12"
  }
 },
 "nbformat": 4,
 "nbformat_minor": 5
}
